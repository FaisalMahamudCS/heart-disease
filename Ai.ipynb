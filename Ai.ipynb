{
  "nbformat": 4,
  "nbformat_minor": 0,
  "metadata": {
    "colab": {
      "name": "Ai.ipynb",
      "provenance": [],
      "collapsed_sections": []
    },
    "kernelspec": {
      "display_name": "Python 3",
      "name": "python3"
    },
    "language_info": {
      "name": "python"
    }
  },
  "cells": [
    {
      "cell_type": "code",
      "metadata": {
        "id": "LJ81ChohKxSp"
      },
      "source": [
        ""
      ],
      "execution_count": null,
      "outputs": []
    },
    {
      "cell_type": "code",
      "metadata": {
        "colab": {
          "base_uri": "https://localhost:8080/"
        },
        "id": "QU0teFlIo6Yd",
        "outputId": "5f1e778d-2ace-4f97-b222-9225c2f23bbb"
      },
      "source": [
        "from google.colab import drive\n",
        "drive.mount('/content/drive')"
      ],
      "execution_count": null,
      "outputs": [
        {
          "output_type": "stream",
          "name": "stdout",
          "text": [
            "Mounted at /content/drive\n"
          ]
        }
      ]
    },
    {
      "cell_type": "code",
      "metadata": {
        "id": "ZwIyA6pSoe9C",
        "colab": {
          "base_uri": "https://localhost:8080/"
        },
        "outputId": "fb909e85-eda6-480f-865e-2fd712fdf36b"
      },
      "source": [
        "import pandas as pd\n",
        "import numpy as np\n",
        "dataset=pd.read_csv('/content/drive/MyDrive/heart_statlog_cleveland_hungary_final.csv')\n",
        "from sklearn.preprocessing import Normalizer\n",
        "\n",
        "x=pd.DataFrame(dataset.iloc[:,:-1])\n",
        "y=pd.DataFrame(dataset.iloc[:,-1])\n",
        "print(dataset.isnull().sum())\n",
        "\n",
        "from sklearn.preprocessing import Normalizer ,LabelEncoder\n",
        "le=LabelEncoder()\n",
        "le.fit_transform(dataset['cholesterol'])\n",
        "#dataset.cholesterol(le.fit_transform)\n",
        "print(dataset.cholesterol.values)\n",
        "scaler=Normalizer().fit(x)\n",
        "x_data=scaler.transform(x)"
      ],
      "execution_count": null,
      "outputs": [
        {
          "output_type": "stream",
          "name": "stdout",
          "text": [
            "age                    0\n",
            "sex                    0\n",
            "chest pain type        0\n",
            "resting bp s           0\n",
            "cholesterol            0\n",
            "fasting blood sugar    0\n",
            "resting ecg            0\n",
            "max heart rate         0\n",
            "exercise angina        0\n",
            "oldpeak                0\n",
            "ST slope               0\n",
            "target                 0\n",
            "dtype: int64\n",
            "[289 180 283 ... 131 236 175]\n"
          ]
        }
      ]
    },
    {
      "cell_type": "code",
      "source": [
        "AaaaaAaaAaAaaaazAAaAAaAAAzaAaaaaaaaAaaAZZASaaAAaAaazAAaaAaAaaaaAaAaaAaaAAASAASaaaAaZAASAAASAaaaaaaaaaaaaAaAaaaaaaaaAAaaAAAAaAAAAAAaaAAA!!!!!!!!Z‌‌##dataset"
      ],
      "metadata": {
        "colab": {
          "base_uri": "https://localhost:8080/",
          "height": 265
        },
        "id": "sSSq1DD9OiMa",
        "outputId": "9751912a-d87d-4d34-b21f-bb318046ac35"
      },
      "execution_count": null,
      "outputs": [
        {
          "output_type": "error",
          "ename": "NameError",
          "evalue": "ignored",
          "traceback": [
            "\u001b[0;31m---------------------------------------------------------------------------\u001b[0m",
            "\u001b[0;31mNameError\u001b[0m                                 Traceback (most recent call last)",
            "\u001b[0;32m<ipython-input-1-3075b36c09c8>\u001b[0m in \u001b[0;36m<module>\u001b[0;34m()\u001b[0m\n\u001b[0;32m----> 1\u001b[0;31m \u001b[0mdataset\u001b[0m\u001b[0;34m\u001b[0m\u001b[0;34m\u001b[0m\u001b[0m\n\u001b[0m",
            "\u001b[0;31mNameError\u001b[0m: name 'dataset' is not defined"
          ]
        }
      ]
    },
    {
      "cell_type": "code",
      "metadata": {
        "id": "IMmLYcTvKMv_"
      },
      "source": [
        "from google.colab import drive\n",
        "drive.mount('/content/drive')"
      ],
      "execution_count": null,
      "outputs": []
    },
    {
      "cell_type": "code",
      "metadata": {
        "colab": {
          "base_uri": "https://localhost:8080/"
        },
        "id": "J8QQR0GLqX1A",
        "outputId": "8b4281d1-1faf-4344-a581-39991e28b8b0"
      },
      "source": [
        "from sklearn.model_selection import train_test_split\n",
        "x_train_data,x_test_data,y_train_data,y_test_data=train_test_split(x,y,test_size=0.2,random_state=123)\n",
        "\n",
        "print(x_train_data.shape,y_train_data.shape,x_test_data.shape,y_test_data.shape)\n"
      ],
      "execution_count": null,
      "outputs": [
        {
          "output_type": "stream",
          "name": "stdout",
          "text": [
            "(952, 11) (952, 1) (238, 11) (238, 1)\n"
          ]
        }
      ]
    },
    {
      "cell_type": "code",
      "metadata": {
        "colab": {
          "base_uri": "https://localhost:8080/"
        },
        "id": "SURF5kquqhGD",
        "outputId": "46978fc4-a831-4500-bd10-52309bb2e541"
      },
      "source": [
        "from sklearn.tree import DecisionTreeClassifier\n",
        "dt=DecisionTreeClassifier()\n",
        "model=dt.fit(x_train_data,y_train_data)\n",
        "prediction=model.predict(x_test_data)\n",
        "\n",
        "#confusion matrix\n",
        "from sklearn.metrics import  classification_report,confusion_matrix,accuracy_score\n",
        "cm=confusion_matrix(y_test_data,prediction)\n",
        "print(cm)\n",
        "\n",
        "print(classification_report(y_test_data,prediction))"
      ],
      "execution_count": null,
      "outputs": [
        {
          "output_type": "stream",
          "name": "stdout",
          "text": [
            "[[ 82  11]\n",
            " [ 17 128]]\n",
            "              precision    recall  f1-score   support\n",
            "\n",
            "           0       0.83      0.88      0.85        93\n",
            "           1       0.92      0.88      0.90       145\n",
            "\n",
            "    accuracy                           0.88       238\n",
            "   macro avg       0.87      0.88      0.88       238\n",
            "weighted avg       0.88      0.88      0.88       238\n",
            "\n"
          ]
        }
      ]
    },
    {
      "cell_type": "code",
      "metadata": {
        "id": "IpIzZ5DtrAV9"
      },
      "source": [
        ""
      ],
      "execution_count": null,
      "outputs": []
    },
    {
      "cell_type": "code",
      "metadata": {
        "colab": {
          "base_uri": "https://localhost:8080/",
          "height": 238
        },
        "id": "sRXDiTC8quEW",
        "outputId": "cbe9ac7d-40d2-4187-bdec-96a8a0c70af3"
      },
      "source": [
        ""
      ],
      "execution_count": null,
      "outputs": [
        {
          "ename": "NameError",
          "evalue": "ignored",
          "output_type": "error",
          "traceback": [
            "\u001b[0;31m---------------------------------------------------------------------------\u001b[0m",
            "\u001b[0;31mNameError\u001b[0m                                 Traceback (most recent call last)",
            "\u001b[0;32m<ipython-input-1-c995d5b508f4>\u001b[0m in \u001b[0;36m<module>\u001b[0;34m()\u001b[0m\n\u001b[0;32m----> 1\u001b[0;31m \u001b[0my\u001b[0m\u001b[0;34m=\u001b[0m\u001b[0mpd\u001b[0m\u001b[0;34m.\u001b[0m\u001b[0mDataFrame\u001b[0m\u001b[0;34m(\u001b[0m\u001b[0mdataset\u001b[0m\u001b[0;34m.\u001b[0m\u001b[0miloc\u001b[0m\u001b[0;34m[\u001b[0m\u001b[0;34m:\u001b[0m\u001b[0;34m,\u001b[0m\u001b[0;34m-\u001b[0m\u001b[0;36m1\u001b[0m\u001b[0;34m]\u001b[0m\u001b[0;34m)\u001b[0m\u001b[0;34m\u001b[0m\u001b[0;34m\u001b[0m\u001b[0m\n\u001b[0m\u001b[1;32m      2\u001b[0m \u001b[0my\u001b[0m\u001b[0;34m\u001b[0m\u001b[0;34m\u001b[0m\u001b[0m\n\u001b[1;32m      3\u001b[0m \u001b[0;32mfrom\u001b[0m \u001b[0msklearn\u001b[0m\u001b[0;34m.\u001b[0m\u001b[0mpreprocessing\u001b[0m \u001b[0;32mimport\u001b[0m \u001b[0mnormalizer\u001b[0m\u001b[0;34m\u001b[0m\u001b[0;34m\u001b[0m\u001b[0m\n\u001b[1;32m      4\u001b[0m \u001b[0mscaler\u001b[0m\u001b[0;34m=\u001b[0m\u001b[0mnormalizer\u001b[0m\u001b[0;34m(\u001b[0m\u001b[0;34m)\u001b[0m\u001b[0;34m.\u001b[0m\u001b[0mfit\u001b[0m\u001b[0;34m(\u001b[0m\u001b[0mx\u001b[0m\u001b[0;34m)\u001b[0m\u001b[0;34m\u001b[0m\u001b[0;34m\u001b[0m\u001b[0m\n\u001b[1;32m      5\u001b[0m \u001b[0mx_data\u001b[0m\u001b[0;34m=\u001b[0m\u001b[0mscaler\u001b[0m\u001b[0;34m.\u001b[0m\u001b[0mtransform\u001b[0m\u001b[0;34m(\u001b[0m\u001b[0mx\u001b[0m\u001b[0;34m)\u001b[0m\u001b[0;34m\u001b[0m\u001b[0;34m\u001b[0m\u001b[0m\n",
            "\u001b[0;31mNameError\u001b[0m: name 'pd' is not defined"
          ]
        }
      ]
    },
    {
      "cell_type": "code",
      "metadata": {
        "id": "9dYze9sMGHC4"
      },
      "source": [
        "from sklearn.preprocessing import normalizer\n",
        "scaler=normalizer().fit(x)"
      ],
      "execution_count": null,
      "outputs": []
    },
    {
      "cell_type": "code",
      "metadata": {
        "id": "O1d_GpPkq5Xt"
      },
      "source": [
        ""
      ],
      "execution_count": null,
      "outputs": []
    },
    {
      "cell_type": "code",
      "metadata": {
        "colab": {
          "base_uri": "https://localhost:8080/"
        },
        "id": "lX67C46AsR_I",
        "outputId": "a6a67ebf-4fca-43ed-dff2-746ce1250638"
      },
      "source": [
        "from google.colab import drive\n",
        "drive.mount('/content/drive')"
      ],
      "execution_count": null,
      "outputs": [
        {
          "name": "stdout",
          "output_type": "stream",
          "text": [
            "Mounted at /content/drive\n"
          ]
        }
      ]
    },
    {
      "cell_type": "code",
      "metadata": {
        "colab": {
          "base_uri": "https://localhost:8080/"
        },
        "id": "3IDJlMdcZkTg",
        "outputId": "ff33f553-d132-43ea-8f50-c14a7c0caa80"
      },
      "source": [
        "import pandas as pd\n",
        "import numpy as np\n",
        "dataset=pd.read_csv('/content/drive/MyDrive/heart_statlog_cleveland_hungary_final.csv')\n",
        "\n",
        "x=pd.DataFrame(dataset.iloc[:,:-1])\n",
        "y=pd.DataFrame(dataset.iloc[:,-1])\n",
        "\n",
        "from sklearn.preprocessing import Normalizer\n",
        "scaler=Normalizer().fit(x)\n",
        "x_data=scaler.transform(x)\n",
        "from sklearn.model_selection import train_test_split\n",
        "x_train_data,x_test_data,y_train_data,y_test_data=train_test_split(x,y,test_size=0.2,random_state=123)\n",
        "\n",
        "print(x_train_data.shape,y_train_data.shape,x_test_data.shape,y_test_data.shape)\n"
      ],
      "execution_count": null,
      "outputs": [
        {
          "output_type": "stream",
          "name": "stdout",
          "text": [
            "(952, 11) (952, 1) (238, 11) (238, 1)\n"
          ]
        }
      ]
    },
    {
      "cell_type": "code",
      "metadata": {
        "colab": {
          "base_uri": "https://localhost:8080/"
        },
        "id": "DPDg31JqcuHI",
        "outputId": "ee197604-751d-4532-9ce8-324456f07b2a"
      },
      "source": [
        "#Random Forest Classifier\n",
        "from sklearn.ensemble  import RandomForestClassifier\n",
        "rf=RandomForestClassifier()\n",
        "model=rf.fit(x_train_data,y_train_data)\n",
        "prediction=model.predict(x_test_data)\n",
        "\n",
        "#confusion matrix\n",
        "from sklearn.metrics import  classification_report,confusion_matrix,accuracy_score\n",
        "cm=confusion_matrix(y_test_data,prediction)\n",
        "print(cm)\n",
        "\n",
        "print(classification_report(y_test_data,prediction))"
      ],
      "execution_count": null,
      "outputs": [
        {
          "output_type": "stream",
          "name": "stderr",
          "text": [
            "/usr/local/lib/python3.7/dist-packages/ipykernel_launcher.py:3: DataConversionWarning: A column-vector y was passed when a 1d array was expected. Please change the shape of y to (n_samples,), for example using ravel().\n",
            "  This is separate from the ipykernel package so we can avoid doing imports until\n"
          ]
        },
        {
          "output_type": "stream",
          "name": "stdout",
          "text": [
            "[[ 85   8]\n",
            " [  6 139]]\n",
            "              precision    recall  f1-score   support\n",
            "\n",
            "           0       0.93      0.91      0.92        93\n",
            "           1       0.95      0.96      0.95       145\n",
            "\n",
            "    accuracy                           0.94       238\n",
            "   macro avg       0.94      0.94      0.94       238\n",
            "weighted avg       0.94      0.94      0.94       238\n",
            "\n"
          ]
        }
      ]
    },
    {
      "cell_type": "code",
      "metadata": {
        "colab": {
          "base_uri": "https://localhost:8080/"
        },
        "id": "RP5i5dhDdsTd",
        "outputId": "00ddc9e2-c080-47b0-ab49-ccec8625859d"
      },
      "source": [
        "import pandas as pd\n",
        "import numpy as np\n",
        "dataset=pd.read_csv('/content/drive/MyDrive/heart_statlog_cleveland_hungary_final.csv')\n",
        "\n",
        "x=pd.DataFrame(dataset.iloc[:,:-1])\n",
        "y=pd.DataFrame(dataset.iloc[:,-1])\n",
        "\n",
        "from sklearn.preprocessing import Normalizer\n",
        "scaler=Normalizer().fit(x)\n",
        "x_data=scaler.transform(x)\n",
        "from sklearn.model_selection import train_test_split\n",
        "x_train_data,x_test_data,y_train_data,y_test_data=train_test_split(x,y,test_size=0.2,random_state=123)\n",
        "\n",
        "print(x_train_data.shape,y_train_data.shape,x_test_data.shape,y_test_data.shape)"
      ],
      "execution_count": null,
      "outputs": [
        {
          "output_type": "stream",
          "name": "stdout",
          "text": [
            "(952, 11) (952, 1) (238, 11) (238, 1)\n"
          ]
        }
      ]
    },
    {
      "cell_type": "code",
      "metadata": {
        "colab": {
          "base_uri": "https://localhost:8080/"
        },
        "id": "Om7XJzBod1r2",
        "outputId": "597a2351-86a7-4c6d-cd7c-5374a6a6dca1"
      },
      "source": [
        "#Random SVM Classifier\n",
        "from sklearn.svm import SVC\n",
        "svclassifier = SVC(kernel='linear', random_state=0) \n",
        "model=svclassifier.fit(x_train_data,y_train_data.values.ravel())\n",
        "prediction=model.predict(x_test_data)\n",
        "\n",
        "#confusion matrix\n",
        "from sklearn.metrics import  classification_report,confusion_matrix,accuracy_score\n",
        "cm=confusion_matrix(y_test_data,prediction)\n",
        "print(cm)\n",
        "\n",
        "print(classification_report(y_test_data,prediction))"
      ],
      "execution_count": null,
      "outputs": [
        {
          "output_type": "stream",
          "name": "stdout",
          "text": [
            "[[ 77  16]\n",
            " [ 18 127]]\n",
            "              precision    recall  f1-score   support\n",
            "\n",
            "           0       0.81      0.83      0.82        93\n",
            "           1       0.89      0.88      0.88       145\n",
            "\n",
            "    accuracy                           0.86       238\n",
            "   macro avg       0.85      0.85      0.85       238\n",
            "weighted avg       0.86      0.86      0.86       238\n",
            "\n"
          ]
        }
      ]
    },
    {
      "cell_type": "code",
      "metadata": {
        "colab": {
          "base_uri": "https://localhost:8080/"
        },
        "id": "AHAY4ZMYngnp",
        "outputId": "4b3f133f-6185-44de-dd8d-2583e1d13ca4"
      },
      "source": [
        "import pandas as pd\n",
        "import numpy as np\n",
        "dataset=pd.read_csv('/content/drive/MyDrive/heart_statlog_cleveland_hungary_final.csv')\n",
        "\n",
        "x=pd.DataFrame(dataset.iloc[:,:-1])\n",
        "y=pd.DataFrame(dataset.iloc[:,-1])\n",
        "\n",
        "from sklearn.preprocessing import Normalizer\n",
        "scaler=Normalizer().fit(x)\n",
        "x_data=scaler.transform(x)\n",
        "from sklearn.model_selection import train_test_split\n",
        "x_train_data,x_test_data,y_train_data,y_test_data=train_test_split(x,y,test_size=0.2,random_state=123)\n",
        "\n",
        "print(x_train_data.shape,y_train_data.shape,x_test_data.shape,y_test_data.shape)\n"
      ],
      "execution_count": null,
      "outputs": [
        {
          "output_type": "stream",
          "name": "stdout",
          "text": [
            "(952, 11) (952, 1) (238, 11) (238, 1)\n"
          ]
        }
      ]
    },
    {
      "cell_type": "code",
      "metadata": {
        "colab": {
          "base_uri": "https://localhost:8080/"
        },
        "id": "Nl6sSD65oVN_",
        "outputId": "e8c354b9-c042-4dc7-a0d4-49452e8e93ee"
      },
      "source": [
        "#Naive Bayes\n",
        "from sklearn.naive_bayes import GaussianNB  \n",
        "naiveclassifier = GaussianNB()  \n",
        "model=naiveclassifier.fit(x_train_data,y_train_data.values.ravel())\n",
        "prediction=model.predict(x_test_data)\n",
        "\n",
        "#confusion matrix\n",
        "from sklearn.metrics import  classification_report,confusion_matrix,accuracy_score\n",
        "cm=confusion_matrix(y_test_data,prediction)\n",
        "print(cm)\n",
        "\n",
        "print(classification_report(y_test_data,prediction))\n"
      ],
      "execution_count": null,
      "outputs": [
        {
          "output_type": "stream",
          "name": "stdout",
          "text": [
            "[[ 77  16]\n",
            " [ 24 121]]\n",
            "              precision    recall  f1-score   support\n",
            "\n",
            "           0       0.76      0.83      0.79        93\n",
            "           1       0.88      0.83      0.86       145\n",
            "\n",
            "    accuracy                           0.83       238\n",
            "   macro avg       0.82      0.83      0.83       238\n",
            "weighted avg       0.84      0.83      0.83       238\n",
            "\n"
          ]
        }
      ]
    },
    {
      "cell_type": "code",
      "metadata": {
        "colab": {
          "base_uri": "https://localhost:8080/"
        },
        "id": "J2_kkKO1okny",
        "outputId": "4aaa4073-0504-4cb2-e2e4-8d10ad0b9425"
      },
      "source": [
        "import pandas as pd\n",
        "import numpy as np\n",
        "dataset=pd.read_csv('/content/drive/MyDrive/heart_statlog_cleveland_hungary_final.csv')\n",
        "\n",
        "x=pd.DataFrame(dataset.iloc[:,:-1])\n",
        "y=pd.DataFrame(dataset.iloc[:,-1])\n",
        "\n",
        "from sklearn.preprocessing import Normalizer\n",
        "scaler=Normalizer().fit(x)\n",
        "x_data=scaler.transform(x)\n",
        "from sklearn.model_selection import train_test_split\n",
        "x_train_data,x_test_data,y_train_data,y_test_data=train_test_split(x,y,test_size=0.2,random_state=123)\n",
        "\n",
        "print(x_train_data.shape,y_train_data.shape,x_test_data.shape,y_test_data.shape)"
      ],
      "execution_count": null,
      "outputs": [
        {
          "output_type": "stream",
          "name": "stdout",
          "text": [
            "(952, 11) (952, 1) (238, 11) (238, 1)\n"
          ]
        }
      ]
    },
    {
      "cell_type": "code",
      "source": [
        ""
      ],
      "metadata": {
        "id": "5cqaJ-hFTEg3"
      },
      "execution_count": null,
      "outputs": []
    },
    {
      "cell_type": "code",
      "metadata": {
        "colab": {
          "base_uri": "https://localhost:8080/"
        },
        "id": "ggUnUxWwpQkg",
        "outputId": "7d17e497-3f30-4c8d-927f-31673e23c3f1"
      },
      "source": [
        "#descision tree\n",
        "from sklearn.tree import DecisionTreeClassifier\n",
        "dt=DecisionTreeClassifier()\n",
        "model=dt.fit(x_train_data,y_train_data)\n",
        "prediction=model.predict(x_test_data)\n",
        "\n",
        "#confusion matrix\n",
        "from sklearn.metrics import  classification_report,confusion_matrix,accuracy_score\n",
        "cm=confusion_matrix(y_test_data,prediction)\n",
        "print(cm)\n",
        "\n",
        "print(classification_report(y_test_data,prediction))\n"
      ],
      "execution_count": null,
      "outputs": [
        {
          "output_type": "stream",
          "name": "stdout",
          "text": [
            "[[ 81  12]\n",
            " [ 20 125]]\n",
            "              precision    recall  f1-score   support\n",
            "\n",
            "           0       0.80      0.87      0.84        93\n",
            "           1       0.91      0.86      0.89       145\n",
            "\n",
            "    accuracy                           0.87       238\n",
            "   macro avg       0.86      0.87      0.86       238\n",
            "weighted avg       0.87      0.87      0.87       238\n",
            "\n"
          ]
        }
      ]
    },
    {
      "cell_type": "code",
      "metadata": {
        "colab": {
          "base_uri": "https://localhost:8080/"
        },
        "id": "FJGh-ieZBoPB",
        "outputId": "8ef1dba4-857e-4678-a53e-046878e5359a"
      },
      "source": [
        "import pandas as pd\n",
        "import numpy as np\n",
        "dataset=pd.read_csv('/content/drive/MyDrive/heart_statlog_cleveland_hungary_final.csv')\n",
        "\n",
        "x=pd.DataFrame(dataset.iloc[:,:-1])\n",
        "y=pd.DataFrame(dataset.iloc[:,-1])\n",
        "\n",
        "from sklearn.preprocessing import Normalizer\n",
        "scaler=Normalizer().fit(x)\n",
        "x_data=scaler.transform(x)\n",
        "from sklearn.model_selection import train_test_split\n",
        "x_train_data,x_test_data,y_train_data,y_test_data=train_test_split(x,y,test_size=0.2,random_state=123)\n",
        "\n",
        "print(x_train_data.shape,y_train_data.shape,x_test_data.shape,y_test_data.shape)"
      ],
      "execution_count": null,
      "outputs": [
        {
          "output_type": "stream",
          "name": "stdout",
          "text": [
            "(952, 11) (952, 1) (238, 11) (238, 1)\n"
          ]
        }
      ]
    },
    {
      "cell_type": "code",
      "metadata": {
        "colab": {
          "base_uri": "https://localhost:8080/"
        },
        "id": "MYgtWXpspZVv",
        "outputId": "885e1fc5-08d2-4797-a5bc-cbabd1ce87bf"
      },
      "source": [
        "from sklearn.ensemble import GradientBoostingClassifier\n",
        "gradiant=GradientBoostingClassifier()\n",
        "\n",
        "model=gradiant.fit(x_train_data,y_train_data.values.ravel())\n",
        "prediction=model.predict(x_test_data)\n",
        "\n",
        "\n",
        "#confusion matrix\n",
        "from sklearn.metrics import  classification_report,confusion_matrix,accuracy_score\n",
        "cm=confusion_matrix(y_test_data,prediction)\n",
        "print(cm)\n",
        "\n",
        "print(classification_report(y_test_data,prediction))"
      ],
      "execution_count": null,
      "outputs": [
        {
          "output_type": "stream",
          "name": "stdout",
          "text": [
            "[[ 77  16]\n",
            " [ 18 127]]\n",
            "              precision    recall  f1-score   support\n",
            "\n",
            "           0       0.81      0.83      0.82        93\n",
            "           1       0.89      0.88      0.88       145\n",
            "\n",
            "    accuracy                           0.86       238\n",
            "   macro avg       0.85      0.85      0.85       238\n",
            "weighted avg       0.86      0.86      0.86       238\n",
            "\n"
          ]
        }
      ]
    },
    {
      "cell_type": "code",
      "metadata": {
        "colab": {
          "base_uri": "https://localhost:8080/"
        },
        "id": "uL2w5T-ACT1-",
        "outputId": "56e36b3b-ae8b-400a-8d0a-4a130338be93"
      },
      "source": [
        "import pandas as pd\n",
        "import numpy as np\n",
        "dataset=pd.read_csv('/content/drive/MyDrive/heart_statlog_cleveland_hungary_final.csv')\n",
        "\n",
        "x=pd.DataFrame(dataset.iloc[:,:-1])\n",
        "y=pd.DataFrame(dataset.iloc[:,-1])\n",
        "\n",
        "from sklearn.preprocessing import Normalizer\n",
        "scaler=Normalizer().fit(x)\n",
        "x_data=scaler.transform(x)\n",
        "from sklearn.model_selection import train_test_split\n",
        "x_train_data,x_test_data,y_train_data,y_test_data=train_test_split(x,y,test_size=0.2,random_state=123)\n",
        "\n",
        "print(x_train_data.shape,y_train_data.shape,x_test_data.shape,y_test_data.shape)"
      ],
      "execution_count": null,
      "outputs": [
        {
          "output_type": "stream",
          "name": "stdout",
          "text": [
            "(952, 11) (952, 1) (238, 11) (238, 1)\n"
          ]
        }
      ]
    },
    {
      "cell_type": "code",
      "metadata": {
        "colab": {
          "base_uri": "https://localhost:8080/"
        },
        "id": "EjWP4vwlEsPf",
        "outputId": "d10768c9-c886-4edc-b32f-8a37c44f8996"
      },
      "source": [
        "from sklearn.linear_model import LogisticRegression  \n",
        "\n",
        "logistic=LogisticRegression()\n",
        "\n",
        "model=logistic.fit(x_train_data,y_train_data.values.ravel())\n",
        "prediction=model.predict(x_test_data)\n",
        "\n",
        "\n",
        "#confusion matrix\n",
        "from sklearn.metrics import  classification_report,confusion_matrix,accuracy_score\n",
        "cm=confusion_matrix(y_test_data,prediction)\n",
        "print(cm)\n",
        "\n",
        "print(classification_report(y_test_data,prediction))"
      ],
      "execution_count": null,
      "outputs": [
        {
          "output_type": "stream",
          "name": "stdout",
          "text": [
            "[[ 77  16]\n",
            " [ 26 119]]\n",
            "              precision    recall  f1-score   support\n",
            "\n",
            "           0       0.75      0.83      0.79        93\n",
            "           1       0.88      0.82      0.85       145\n",
            "\n",
            "    accuracy                           0.82       238\n",
            "   macro avg       0.81      0.82      0.82       238\n",
            "weighted avg       0.83      0.82      0.82       238\n",
            "\n"
          ]
        },
        {
          "output_type": "stream",
          "name": "stderr",
          "text": [
            "/usr/local/lib/python3.7/dist-packages/sklearn/linear_model/_logistic.py:818: ConvergenceWarning: lbfgs failed to converge (status=1):\n",
            "STOP: TOTAL NO. of ITERATIONS REACHED LIMIT.\n",
            "\n",
            "Increase the number of iterations (max_iter) or scale the data as shown in:\n",
            "    https://scikit-learn.org/stable/modules/preprocessing.html\n",
            "Please also refer to the documentation for alternative solver options:\n",
            "    https://scikit-learn.org/stable/modules/linear_model.html#logistic-regression\n",
            "  extra_warning_msg=_LOGISTIC_SOLVER_CONVERGENCE_MSG,\n"
          ]
        }
      ]
    }
  ]
}